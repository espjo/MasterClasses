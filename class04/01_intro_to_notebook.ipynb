{
 "cells": [
  {
   "cell_type": "markdown",
   "metadata": {},
   "source": [
    "# Quick Exercises 1"
   ]
  },
  {
   "cell_type": "markdown",
   "metadata": {},
   "source": [
    "##### 1. Implement a function that takes as input three variables, and returns the largest of the three. Do this without using the Python max() function! Make one version without any local variable and another with one local variable."
   ]
  },
  {
   "cell_type": "code",
   "execution_count": 9,
   "metadata": {},
   "outputs": [
    {
     "name": "stdout",
     "output_type": "stream",
     "text": [
      "7\n",
      "7\n"
     ]
    }
   ],
   "source": [
    "def max_value(a, b, c):\n",
    "    if a >= b:\n",
    "        if a >= c:\n",
    "            return a\n",
    "        else:\n",
    "            return c\n",
    "    else:\n",
    "        if b >= c:\n",
    "            return b\n",
    "        else:\n",
    "            return c\n",
    "\n",
    "def max_value2(a, b, c):\n",
    "    max = a\n",
    "    if b > max:\n",
    "        max = b\n",
    "    if c > max:\n",
    "        max = c\n",
    "    return max\n",
    "\n",
    "print(max_value(6,4,7))\n",
    "print(max_value2(6,4,7))"
   ]
  },
  {
   "cell_type": "markdown",
   "metadata": {},
   "source": [
    "##### 2. Write a function “centenario” that will take Name, and year of birth as inputs, check if year of birth is int and cast it to int if not, and print name together with the text explaining when the person is to have 100 years (hint: use isinstance)\n",
    "call to function: centenario(Antonio, 1967)\n",
    "output: Antonio will reach 100 years in 2067."
   ]
  },
  {
   "cell_type": "code",
   "execution_count": 16,
   "metadata": {},
   "outputs": [
    {
     "name": "stdout",
     "output_type": "stream",
     "text": [
      "year must be an integer value. Found: a\n",
      "Antonio will reach 100 years in 2067\n"
     ]
    }
   ],
   "source": [
    "def centenario(name, year):\n",
    "    x = 0\n",
    "    try:\n",
    "        x = int(year)\n",
    "        print(f\"{name} will reach 100 years in {x+100}\")\n",
    "    except Exception:\n",
    "        print(f\"year must be an integer value. Found: {year}\")\n",
    "\n",
    "centenario(\"Antonio\", \"a\")\n",
    "centenario(\"Antonio\", 1967)"
   ]
  },
  {
   "cell_type": "markdown",
   "metadata": {},
   "source": [
    "# Quick Exercises 2"
   ]
  },
  {
   "cell_type": "markdown",
   "metadata": {},
   "source": [
    "##### 1. Write a function to calculate the number of words, number of lines, and length of a string the same way the wc command does in the command line"
   ]
  },
  {
   "cell_type": "code",
   "execution_count": 37,
   "metadata": {},
   "outputs": [
    {
     "name": "stdout",
     "output_type": "stream",
     "text": [
      "       1       1       5\n",
      "\t1\t1\t5\n",
      "       1       3      20\n",
      "\t1\t3\t20\n",
      "       2       2      14\n",
      "\t2\t2\t14\n"
     ]
    }
   ],
   "source": [
    "def wc(str):\n",
    "    print(\"\\t{}\\t{}\\t{}\".format(len(str.split(\"\\n\")),len([token for token in str.split(\" \") if len(token) > 0]),len(str) + 1))\n",
    "\n",
    "! echo \"pepe\" | wc\n",
    "wc(\"pepe\")\n",
    "\n",
    "! echo \"word1   word2 word3\" | wc\n",
    "wc(\"word1   word2 word3\")\n",
    "\n",
    "! echo \"pepe\\n    pepe\" | wc\n",
    "wc(\"pepe\\n    pepe\")\n"
   ]
  },
  {
   "cell_type": "markdown",
   "metadata": {},
   "source": [
    "##### 2. Write a Python program to remove the nth index character from a string. If the input string is empty print warning."
   ]
  },
  {
   "cell_type": "code",
   "execution_count": 47,
   "metadata": {},
   "outputs": [
    {
     "name": "stdout",
     "output_type": "stream",
     "text": [
      "234567\n",
      "124567\n",
      "1234567\n"
     ]
    }
   ],
   "source": [
    "def remove_nth(str, n):\n",
    "    if n < 0:\n",
    "        print(\"Warning!\")\n",
    "    n -= 1\n",
    "    if len(str) == 0:\n",
    "        print(\"Warning!\")\n",
    "    print(str[0:n] + str[n+1:])\n",
    "\n",
    "remove_nth(\"1234567\", 1)\n",
    "remove_nth(\"1234567\", 3)\n",
    "remove_nth(\"1234567\", 10)"
   ]
  },
  {
   "cell_type": "markdown",
   "metadata": {},
   "source": [
    "# Quick Exercises 3"
   ]
  },
  {
   "cell_type": "markdown",
   "metadata": {},
   "source": [
    "##### 1. While inside python, go to ~/Data/opentraveldata/ and list the files. Repeat the same for /home/dsc/Data/us_dot/otp and ~/Data/us_dot/traffic/.\n",
    "Use the list of visited directories from dhist and write for loop which will return for each visited directory its name and number of files inside."
   ]
  },
  {
   "cell_type": "code",
   "execution_count": 54,
   "metadata": {},
   "outputs": [
    {
     "name": "stdout",
     "output_type": "stream",
     "text": [
      "/Users/je637620/Box/_Personal/Master/Repos/DS_CL_files/opentraveldata\n",
      "optd_aircraft.csv    optd_airlines.csv    optd_por_public.csv\n"
     ]
    }
   ],
   "source": [
    "%cd /Users/je637620/Box/_Personal/Master/Repos/DS_CL_files/opentraveldata\n",
    "%ls"
   ]
  },
  {
   "cell_type": "markdown",
   "metadata": {},
   "source": [
    "##### 2. Write a function that will take text file and pattern as input parameters, and return the number of occurances of case insensitive pattern inside a text (similar to: grep -i –o pattern file | wc -l)"
   ]
  },
  {
   "cell_type": "code",
   "execution_count": 59,
   "metadata": {},
   "outputs": [
    {
     "data": {
      "text/plain": [
       "458"
      ]
     },
     "execution_count": 59,
     "metadata": {},
     "output_type": "execute_result"
    }
   ],
   "source": [
    "def pattern_match(file, pattern):\n",
    "    ocurrences = 0\n",
    "    with open(file, \"r\") as f:\n",
    "        for line in f:\n",
    "            if line.find(pattern):\n",
    "                ocurrences += 1\n",
    "    return ocurrences\n",
    "\n",
    "pattern_match(\"/Users/je637620/Box/_Personal/Master/Repos/DS_CL_files/opentraveldata/optd_aircraft.csv\", \"Anton.*\")"
   ]
  },
  {
   "cell_type": "markdown",
   "metadata": {},
   "source": [
    "##### 3. Open Finn.txt file, read lines into a list. Remove trailing white spaces from each line . Write the resulting list to the new file. How many lines does the new file have? (hint: empty list is made with [] )"
   ]
  },
  {
   "cell_type": "code",
   "execution_count": 100,
   "metadata": {},
   "outputs": [],
   "source": [
    "def remote_trailing(file):\n",
    "    f = open(file, \"r\")\n",
    "    lines = f.readlines()\n",
    "    f.close()\n",
    "    f = open(file + \".new\", \"w\")\n",
    "    for line in lines:\n",
    "        f.write(line.rstrip() + \"\\n\")\n",
    "    f.close()\n",
    "    \n",
    "remote_trailing(\"/Users/je637620/Box/_Personal/Master/Repos/DS_CL_files/shell/Finn.txt\")"
   ]
  },
  {
   "cell_type": "markdown",
   "metadata": {},
   "source": [
    "##### 4. Open Finn.txt file, read lines into a list. Create a new version of Finn_nbl.txt with no blank lines."
   ]
  },
  {
   "cell_type": "code",
   "execution_count": 105,
   "metadata": {},
   "outputs": [],
   "source": [
    "def remote_empty_lines(file):\n",
    "    f = open(file, \"r\")\n",
    "    lines = f.readlines()\n",
    "    f.close()\n",
    "    f = open(file + \".new\", \"w\")\n",
    "    for line in lines:\n",
    "        if(len(line.replace(\"\\n\", \"\")) > 0):\n",
    "            f.write(line)\n",
    "    f.close()\n",
    "    \n",
    "remote_empty_lines(\"/Users/je637620/Box/_Personal/Master/Repos/DS_CL_files/shell/Finn.txt\")"
   ]
  },
  {
   "cell_type": "markdown",
   "metadata": {},
   "source": [
    "##### 5. Reset the workspace. Obtain the difference in number of lines between original Finn file and and the one without blank lines and print the result. (hint: use wc)"
   ]
  },
  {
   "cell_type": "code",
   "execution_count": 106,
   "metadata": {},
   "outputs": [
    {
     "name": "stdout",
     "output_type": "stream",
     "text": [
      "2689\n"
     ]
    }
   ],
   "source": [
    "lines_before=! wc -l /Users/je637620/Box/_Personal/Master/Repos/DS_CL_files/shell/Finn.txt | awk '{ print $1 }'\n",
    "lines_after=! wc -l /Users/je637620/Box/_Personal/Master/Repos/DS_CL_files/shell/Finn.txt.new | awk '{ print $1 }'\n",
    "print(int(lines_before[0]) - int(lines_after[0]))"
   ]
  },
  {
   "cell_type": "code",
   "execution_count": 107,
   "metadata": {},
   "outputs": [],
   "source": [
    "! rm /Users/je637620/Box/_Personal/Master/Repos/DS_CL_files/shell/Finn.txt.new"
   ]
  }
 ],
 "metadata": {
  "kernelspec": {
   "display_name": "Python 3",
   "language": "python",
   "name": "python3"
  },
  "language_info": {
   "codemirror_mode": {
    "name": "ipython",
    "version": 3
   },
   "file_extension": ".py",
   "mimetype": "text/x-python",
   "name": "python",
   "nbconvert_exporter": "python",
   "pygments_lexer": "ipython3",
   "version": "3.8.1"
  }
 },
 "nbformat": 4,
 "nbformat_minor": 4
}

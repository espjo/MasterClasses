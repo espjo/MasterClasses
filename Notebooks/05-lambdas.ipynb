{
 "cells": [
  {
   "cell_type": "markdown",
   "metadata": {},
   "source": [
    "# Quick Excercises 4"
   ]
  },
  {
   "cell_type": "markdown",
   "metadata": {},
   "source": [
    "##### For a sequence [1, 2, 3, 4, 5, 6, 7, 8 ] get the squared values using the lambda function."
   ]
  },
  {
   "cell_type": "code",
   "execution_count": 4,
   "metadata": {},
   "outputs": [
    {
     "name": "stdout",
     "output_type": "stream",
     "text": [
      "Using lambda: [1, 4, 9, 16, 25, 36, 49, 64]\n",
      "Using list comprehesion: [1, 4, 9, 16, 25, 36, 49, 64]\n"
     ]
    }
   ],
   "source": [
    "numbers = [1,2,3,4,5,6,7,8]\n",
    "print(f\"Using lambda: {list(map(lambda n: n**2, numbers))}\")\n",
    "print(f\"Using list comprehesion: {[n**2 for n in numbers]}\")"
   ]
  },
  {
   "cell_type": "markdown",
   "metadata": {},
   "source": [
    "##### Prepare a list with 10 names. Make a code that will put all vowels to capitals and every other character to lower letters."
   ]
  },
  {
   "cell_type": "code",
   "execution_count": 115,
   "metadata": {},
   "outputs": [
    {
     "name": "stdout",
     "output_type": "stream",
     "text": [
      "Names with better look ['jOsE', 'jUAn', 'vErO', 'pAblO', 'AntOnIO', 'IgOr']\n",
      "Using lambda in a single line: ['jOsE', 'jUAn', 'vErO', 'pAblO', 'AntOnIO', 'IgOr']\n"
     ]
    }
   ],
   "source": [
    "def transform(name):\n",
    "    name = name.lower()\n",
    "    new_name = []\n",
    "    for letter in name:\n",
    "        if letter in \"aeiou\":\n",
    "            new_name.append(letter.upper())\n",
    "        else:\n",
    "            new_name.append(letter)\n",
    "    return \"\".join(new_name)\n",
    "        \n",
    "names = [\"Jose\", \"Juan\", \"Vero\", \"Pablo\", \"Antonio\", \"Igor\"]\n",
    "print(f\"Names with better look {list(map(transform, names))}\")\n",
    "\n",
    "print(f\"Using lambda in a single line: {list(map(lambda name: ''.join(list(map(lambda letter: letter.upper() if letter.lower() in 'aeiou' else letter.lower(), name))), names))}\")"
   ]
  },
  {
   "cell_type": "markdown",
   "metadata": {},
   "source": [
    "##### Prepare again a list with 10 names. Make a function with two input variables: list, and character; that returns a list of names containing one or more of input characters ’s inside the name. "
   ]
  },
  {
   "cell_type": "code",
   "execution_count": 118,
   "metadata": {},
   "outputs": [
    {
     "name": "stdout",
     "output_type": "stream",
     "text": [
      "Using lambda and filter: ['Jose', 'Vero']\n",
      "Using list comprehesion and function: ['Jose', 'Vero']\n"
     ]
    }
   ],
   "source": [
    "def letter_in_name(name, letter):\n",
    "    return letter in name\n",
    "\n",
    "names = [\"Jose\", \"Juan\", \"Vero\", \"Pablo\", \"Antonio\", \"Igor\"]\n",
    "letter = \"e\"\n",
    "\n",
    "print(f\"Using lambda and filter: {list(filter(lambda name: letter in name, names))}\")\n",
    "print(f\"Using list comprehesion and function: {[name for name in names if letter_in_name(name, letter)]}\")"
   ]
  },
  {
   "cell_type": "markdown",
   "metadata": {},
   "source": [
    "##### Reverse word order from the input string "
   ]
  },
  {
   "cell_type": "code",
   "execution_count": 119,
   "metadata": {},
   "outputs": [
    {
     "name": "stdout",
     "output_type": "stream",
     "text": [
      "Your name Juan in reverse letter order is nauJ\n",
      "Your text in reverse word order is: remember to want don't I name whose Castila of place a In\n"
     ]
    }
   ],
   "source": [
    "name = \"Juan\"\n",
    "print(f\"Your name {name} in reverse letter order is {name[::-1]}\")\n",
    "    \n",
    "text = \"In a place of Castila whose name I don't want to remember\"\n",
    "print(f\"Your text in reverse word order is: {' '.join(text.split()[::-1])}\")"
   ]
  },
  {
   "cell_type": "markdown",
   "metadata": {},
   "source": [
    "##### Create a function that accepts string as search string and returns number of lines with that string in a command history (hint : use a in b)"
   ]
  },
  {
   "cell_type": "code",
   "execution_count": 124,
   "metadata": {},
   "outputs": [
    {
     "name": "stdout",
     "output_type": "stream",
     "text": [
      "Word 'rm -rf' appears in 4 lines of my .history file\n"
     ]
    }
   ],
   "source": [
    "def word_in_history(word):\n",
    "    ! cd\n",
    "    f = open(\".zsh_history\", \"r\", encoding=\"latin-1\")\n",
    "    commands = f.readlines()\n",
    "    f.close()\n",
    "    return len(list(filter(lambda command: word in command, commands)))\n",
    "\n",
    "word = \"rm -rf\"\n",
    "print(f\"Word '{word}' appears in {word_in_history(word)} lines of my .history file\")"
   ]
  },
  {
   "cell_type": "markdown",
   "metadata": {},
   "source": [
    "##### Write a Python function that takes a list of words and returns the length of the longest one."
   ]
  },
  {
   "cell_type": "code",
   "execution_count": 126,
   "metadata": {},
   "outputs": [
    {
     "name": "stdout",
     "output_type": "stream",
     "text": [
      "Longest word is 'rinoceronte' with length 11\n"
     ]
    }
   ],
   "source": [
    "words = [\"caballo\", \"jirafa\", \"elefante\", \"murcielago\", \"perro\", \"gato\", \"rinoceronte\"]\n",
    "longest_word = sorted(words, key=len, reverse=True)[0]\n",
    "print(f\"Longest word is '{longest_word}' with length {len(longest_word)}\")"
   ]
  },
  {
   "cell_type": "code",
   "execution_count": null,
   "metadata": {},
   "outputs": [],
   "source": []
  }
 ],
 "metadata": {
  "kernelspec": {
   "display_name": "Python 3",
   "language": "python",
   "name": "python3"
  },
  "language_info": {
   "codemirror_mode": {
    "name": "ipython",
    "version": 3
   },
   "file_extension": ".py",
   "mimetype": "text/x-python",
   "name": "python",
   "nbconvert_exporter": "python",
   "pygments_lexer": "ipython3",
   "version": "3.8.1"
  }
 },
 "nbformat": 4,
 "nbformat_minor": 4
}

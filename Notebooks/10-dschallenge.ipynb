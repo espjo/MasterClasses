{
 "cells": [
  {
   "cell_type": "markdown",
   "metadata": {},
   "source": [
    "# Exercise 1\n",
    "#### Count the number of lines in Python for each file"
   ]
  },
  {
   "cell_type": "code",
   "execution_count": 170,
   "metadata": {},
   "outputs": [],
   "source": [
    "# Define path to CSV files\n",
    "bookings_file = \"/Users/je637620/Desktop/challenge/bookings.csv\"\n",
    "searches_file = \"/Users/je637620/Desktop/challenge/searches.csv\""
   ]
  },
  {
   "cell_type": "code",
   "execution_count": 171,
   "metadata": {},
   "outputs": [
    {
     "name": "stdout",
     "output_type": "stream",
     "text": [
      "Bookings file: 10000011 lines\n",
      "Searches file: 20390199 lines\n"
     ]
    }
   ],
   "source": [
    "# Using Python\n",
    "def number_of_lines(filename):\n",
    "    nlines = 0\n",
    "    with open(filename, \"r\") as f:\n",
    "        while f.readline() != \"\":\n",
    "            nlines += 1\n",
    "    return nlines\n",
    "\n",
    "print(f\"Bookings file: {number_of_lines(bookings_file)} lines\")\n",
    "print(f\"Searches file: {number_of_lines(searches_file)} lines\")"
   ]
  },
  {
   "cell_type": "code",
   "execution_count": 172,
   "metadata": {},
   "outputs": [
    {
     "name": "stdout",
     "output_type": "stream",
     "text": [
      " 10000011 /Users/je637620/Desktop/challenge/bookings.csv\n",
      " 20390198 /Users/je637620/Desktop/challenge/searches.csv\n"
     ]
    }
   ],
   "source": [
    "# Using Shell\n",
    "!wc -l {bookings_file}\n",
    "!wc -l {searches_file}"
   ]
  },
  {
   "cell_type": "markdown",
   "metadata": {},
   "source": [
    "# Exercise 2\n",
    "#### Top 10 arrival airports in the world in 2013 (using the bookings file)"
   ]
  },
  {
   "cell_type": "code",
   "execution_count": 173,
   "metadata": {},
   "outputs": [],
   "source": [
    "# Define path to CSV files\n",
    "bookings_file = \"/Users/je637620/Desktop/challenge/bookings.csv\""
   ]
  },
  {
   "cell_type": "code",
   "execution_count": 174,
   "metadata": {},
   "outputs": [],
   "source": [
    "# Import required modules\n",
    "import pandas as pd"
   ]
  },
  {
   "cell_type": "code",
   "execution_count": 175,
   "metadata": {},
   "outputs": [
    {
     "name": "stdout",
     "output_type": "stream",
     "text": [
      "['act_date           ', 'source', 'pos_ctry', 'pos_iata', 'pos_oid  ', 'rloc          ', 'cre_date           ', 'duration', 'distance', 'dep_port', 'dep_city', 'dep_ctry', 'arr_port', 'arr_city', 'arr_ctry', 'lst_port', 'lst_city', 'lst_ctry', 'brd_port', 'brd_city', 'brd_ctry', 'off_port', 'off_city', 'off_ctry', 'mkt_port', 'mkt_city', 'mkt_ctry', 'intl', 'route          ', 'carrier', 'bkg_class', 'cab_class', 'brd_time           ', 'off_time           ', 'pax', 'year', 'month', 'oid      ']\n",
      "act_date               object\n",
      "source                 object\n",
      "pos_ctry               object\n",
      "pos_iata               object\n",
      "pos_oid                object\n",
      "rloc                   object\n",
      "cre_date               object\n",
      "duration                int64\n",
      "distance                int64\n",
      "dep_port               object\n",
      "dep_city               object\n",
      "dep_ctry               object\n",
      "arr_port               object\n",
      "arr_city               object\n",
      "arr_ctry               object\n",
      "lst_port               object\n",
      "lst_city               object\n",
      "lst_ctry               object\n",
      "brd_port               object\n",
      "brd_city               object\n",
      "brd_ctry               object\n",
      "off_port               object\n",
      "off_city               object\n",
      "off_ctry               object\n",
      "mkt_port               object\n",
      "mkt_city               object\n",
      "mkt_ctry               object\n",
      "intl                    int64\n",
      "route                  object\n",
      "carrier                object\n",
      "bkg_class              object\n",
      "cab_class              object\n",
      "brd_time               object\n",
      "off_time               object\n",
      "pax                     int64\n",
      "year                    int64\n",
      "month                   int64\n",
      "oid                    object\n",
      "dtype: object\n"
     ]
    }
   ],
   "source": [
    "# Inspect data in one chunk\n",
    "pd.set_option(\"display.max_columns\", None)\n",
    "df = pd.read_csv(bookings_file, sep=\"^\",  iterator=True, chunksize=10000)\n",
    "for chunk in df:\n",
    "    print(chunk.columns.to_list())\n",
    "    print(chunk.dtypes)\n",
    "    break"
   ]
  },
  {
   "cell_type": "code",
   "execution_count": 176,
   "metadata": {},
   "outputs": [],
   "source": [
    "# Inspect data broadly\n",
    "df = pd.read_csv(bookings_file, sep=\"^\", usecols=[\"pax\"],  iterator=True, chunksize=10000)\n",
    "for chunk in df:\n",
    "    if not chunk[\"pax\"].dtypes in [\"int64\", \"float64\"]:\n",
    "        print(chunk[\"pax\"].dtype)"
   ]
  },
  {
   "cell_type": "code",
   "execution_count": 177,
   "metadata": {},
   "outputs": [],
   "source": [
    "# Functions\n",
    "def normalize_number(element):\n",
    "        try:\n",
    "            return int(element)\n",
    "        except Exception as e:\n",
    "            return 0"
   ]
  },
  {
   "cell_type": "code",
   "execution_count": 178,
   "metadata": {},
   "outputs": [
    {
     "data": {
      "text/plain": [
       "arr_port\n",
       "LHR    88809\n",
       "MCO    70930\n",
       "LAX    70530\n",
       "LAS    69630\n",
       "JFK    66270\n",
       "CDG    64490\n",
       "BKK    59460\n",
       "MIA    58150\n",
       "SFO    58000\n",
       "DXB    55590\n",
       "Name: pax, dtype: int64"
      ]
     },
     "execution_count": 178,
     "metadata": {},
     "output_type": "execute_result"
    }
   ],
   "source": [
    "# read csv file using chunks. Restrict to columns of interest\n",
    "df = pd.read_csv(bookings_file, sep=\"^\", usecols=[\"arr_port\", \"pax\", \"year\"],  iterator=True, chunksize=10000)\n",
    "\n",
    "# created to control number of chunks to process for debugging\n",
    "current_chunk = 1\n",
    "max_chunks = -1\n",
    "\n",
    "# Dataframes to concat partial results\n",
    "arr_port_paxs_total = None\n",
    "    \n",
    "# Iterate every chunk\n",
    "for chunk in df:\n",
    "\n",
    "    # Clean data filling nan with 0 and removing null values on top\n",
    "    chunk[\"pax\"] = chunk[\"pax\"].fillna(0)\n",
    "    chunk = chunk[(chunk[\"arr_port\"].notnull()) & (chunk[\"year\"].notnull()) & (chunk[\"pax\"].notnull())]\n",
    "    \n",
    "    # Filter data to year of interest\n",
    "    chunk = chunk[chunk[\"year\"] == 2013]\n",
    "        \n",
    "    # Normalize arr_port codes and pax numbers\n",
    "    chunk[\"arr_port\"] = chunk[\"arr_port\"].str.strip().str.upper()\n",
    "    chunk[\"pax\"] = chunk[\"pax\"].apply(normalize_number)\n",
    "    \n",
    "    # Group pax by arr_port (sum)\n",
    "    arr_port_paxs = chunk.groupby(by=\"arr_port\")[\"pax\"].sum()\n",
    "    \n",
    "    # Append partial results to totals\n",
    "    arr_port_paxs_total = pd.concat([arr_port_paxs_total, arr_port_paxs])\n",
    "    \n",
    "    if current_chunk > 0 and current_chunk == max_chunks:\n",
    "        break\n",
    "    current_chunk += 1\n",
    "\n",
    "# Group by arr_port over the partial results, sort descending and print top 10\n",
    "top10_arr_port_paxs_total = arr_port_paxs_total.groupby(by=\"arr_port\").sum().sort_values(ascending=False).head(n=10)\n",
    "top10_arr_port_paxs_total"
   ]
  },
  {
   "cell_type": "markdown",
   "metadata": {},
   "source": [
    "#### <b>Bonus point</b>: Get the name of the city or airport corresponding to that airport "
   ]
  },
  {
   "cell_type": "code",
   "execution_count": 179,
   "metadata": {},
   "outputs": [
    {
     "data": {
      "text/html": [
       "<div>\n",
       "<style scoped>\n",
       "    .dataframe tbody tr th:only-of-type {\n",
       "        vertical-align: middle;\n",
       "    }\n",
       "\n",
       "    .dataframe tbody tr th {\n",
       "        vertical-align: top;\n",
       "    }\n",
       "\n",
       "    .dataframe thead th {\n",
       "        text-align: right;\n",
       "    }\n",
       "</style>\n",
       "<table border=\"1\" class=\"dataframe\">\n",
       "  <thead>\n",
       "    <tr style=\"text-align: right;\">\n",
       "      <th></th>\n",
       "      <th>arr_port</th>\n",
       "      <th>pax</th>\n",
       "      <th>arr_port_name</th>\n",
       "      <th>arr_port_code</th>\n",
       "    </tr>\n",
       "  </thead>\n",
       "  <tbody>\n",
       "    <tr>\n",
       "      <th>0</th>\n",
       "      <td>LHR</td>\n",
       "      <td>88809</td>\n",
       "      <td>London Heathrow Airport</td>\n",
       "      <td>LON</td>\n",
       "    </tr>\n",
       "    <tr>\n",
       "      <th>1</th>\n",
       "      <td>MCO</td>\n",
       "      <td>70930</td>\n",
       "      <td>Orlando International Airport</td>\n",
       "      <td>ORL</td>\n",
       "    </tr>\n",
       "    <tr>\n",
       "      <th>2</th>\n",
       "      <td>LAX</td>\n",
       "      <td>70530</td>\n",
       "      <td>Los Angeles International Airport</td>\n",
       "      <td>LAX</td>\n",
       "    </tr>\n",
       "    <tr>\n",
       "      <th>3</th>\n",
       "      <td>LAS</td>\n",
       "      <td>69630</td>\n",
       "      <td>Mc Carran International Airport</td>\n",
       "      <td>LAS</td>\n",
       "    </tr>\n",
       "    <tr>\n",
       "      <th>4</th>\n",
       "      <td>JFK</td>\n",
       "      <td>66270</td>\n",
       "      <td>John F Kennedy International Airport</td>\n",
       "      <td>NYC</td>\n",
       "    </tr>\n",
       "    <tr>\n",
       "      <th>5</th>\n",
       "      <td>CDG</td>\n",
       "      <td>64490</td>\n",
       "      <td>Paris - Charles-de-Gaulle</td>\n",
       "      <td>PAR</td>\n",
       "    </tr>\n",
       "    <tr>\n",
       "      <th>6</th>\n",
       "      <td>BKK</td>\n",
       "      <td>59460</td>\n",
       "      <td>Suvarnabhumi</td>\n",
       "      <td>BKK</td>\n",
       "    </tr>\n",
       "    <tr>\n",
       "      <th>7</th>\n",
       "      <td>MIA</td>\n",
       "      <td>58150</td>\n",
       "      <td>Miami International Airport</td>\n",
       "      <td>MIA</td>\n",
       "    </tr>\n",
       "    <tr>\n",
       "      <th>8</th>\n",
       "      <td>SFO</td>\n",
       "      <td>58000</td>\n",
       "      <td>San Francisco International Airport</td>\n",
       "      <td>SFO</td>\n",
       "    </tr>\n",
       "    <tr>\n",
       "      <th>9</th>\n",
       "      <td>DXB</td>\n",
       "      <td>55590</td>\n",
       "      <td>Dubai International Airport</td>\n",
       "      <td>DXB</td>\n",
       "    </tr>\n",
       "  </tbody>\n",
       "</table>\n",
       "</div>"
      ],
      "text/plain": [
       "  arr_port    pax                         arr_port_name arr_port_code\n",
       "0      LHR  88809               London Heathrow Airport           LON\n",
       "1      MCO  70930         Orlando International Airport           ORL\n",
       "2      LAX  70530     Los Angeles International Airport           LAX\n",
       "3      LAS  69630       Mc Carran International Airport           LAS\n",
       "4      JFK  66270  John F Kennedy International Airport           NYC\n",
       "5      CDG  64490             Paris - Charles-de-Gaulle           PAR\n",
       "6      BKK  59460                          Suvarnabhumi           BKK\n",
       "7      MIA  58150           Miami International Airport           MIA\n",
       "8      SFO  58000   San Francisco International Airport           SFO\n",
       "9      DXB  55590           Dubai International Airport           DXB"
      ]
     },
     "execution_count": 179,
     "metadata": {},
     "output_type": "execute_result"
    }
   ],
   "source": [
    "# source: https://github.com/opentraveldata/geobases\n",
    "from GeoBases import GeoBase\n",
    "geo_o = GeoBase(data='ori_por', verbose=False)\n",
    "\n",
    "def getArrPort_Name(arrport_code):\n",
    "    return getArrPort_Info(arrport_code, 'name')\n",
    "\n",
    "def getArrPort_Code(arrport_code):\n",
    "    return getArrPort_Info(arrport_code, 'city_code')\n",
    "    \n",
    "def getArrPort_Info(arrport_code, info):\n",
    "    return geo_o.get(arrport_code, info)\n",
    "\n",
    "top10_arr_port_paxs_df = pd.DataFrame(top10_arr_port_paxs_total).reset_index()\n",
    "top10_arr_port_paxs_df[\"arr_port_name\"] = top10_arr_port_paxs_df[\"arr_port\"].apply(getArrPort_Name)\n",
    "top10_arr_port_paxs_df[\"arr_port_code\"] = top10_arr_port_paxs_df[\"arr_port\"].apply(getArrPort_Code)\n",
    "top10_arr_port_paxs_df"
   ]
  },
  {
   "cell_type": "markdown",
   "metadata": {},
   "source": [
    "# Exercise 3\n",
    "#### Plot the monthly number of searches for flights arriving at Málaga, Madrid or Barcelona"
   ]
  },
  {
   "cell_type": "code",
   "execution_count": 180,
   "metadata": {},
   "outputs": [],
   "source": [
    "# Define path to CSV files\n",
    "searches_file = \"/Users/je637620/Desktop/challenge/searches.csv\""
   ]
  },
  {
   "cell_type": "code",
   "execution_count": 181,
   "metadata": {},
   "outputs": [],
   "source": [
    "# Import required modules\n",
    "import pandas as pd\n",
    "from datetime import datetime"
   ]
  },
  {
   "cell_type": "code",
   "execution_count": 182,
   "metadata": {},
   "outputs": [
    {
     "name": "stdout",
     "output_type": "stream",
     "text": [
      "['Date', 'Time', 'TxnCode', 'OfficeID', 'Country', 'Origin', 'Destination', 'RoundTrip', 'NbSegments', 'Seg1Departure', 'Seg1Arrival', 'Seg1Date', 'Seg1Carrier', 'Seg1BookingCode', 'Seg2Departure', 'Seg2Arrival', 'Seg2Date', 'Seg2Carrier', 'Seg2BookingCode', 'Seg3Departure', 'Seg3Arrival', 'Seg3Date', 'Seg3Carrier', 'Seg3BookingCode', 'Seg4Departure', 'Seg4Arrival', 'Seg4Date', 'Seg4Carrier', 'Seg4BookingCode', 'Seg5Departure', 'Seg5Arrival', 'Seg5Date', 'Seg5Carrier', 'Seg5BookingCode', 'Seg6Departure', 'Seg6Arrival', 'Seg6Date', 'Seg6Carrier', 'Seg6BookingCode', 'From', 'IsPublishedForNeg', 'IsFromInternet', 'IsFromVista', 'TerminalID', 'InternetOffice']\n",
      "Date                 object\n",
      "Time                 object\n",
      "TxnCode              object\n",
      "OfficeID             object\n",
      "Country              object\n",
      "Origin               object\n",
      "Destination          object\n",
      "RoundTrip             int64\n",
      "NbSegments            int64\n",
      "Seg1Departure        object\n",
      "Seg1Arrival          object\n",
      "Seg1Date             object\n",
      "Seg1Carrier          object\n",
      "Seg1BookingCode      object\n",
      "Seg2Departure        object\n",
      "Seg2Arrival          object\n",
      "Seg2Date             object\n",
      "Seg2Carrier          object\n",
      "Seg2BookingCode      object\n",
      "Seg3Departure        object\n",
      "Seg3Arrival          object\n",
      "Seg3Date             object\n",
      "Seg3Carrier          object\n",
      "Seg3BookingCode      object\n",
      "Seg4Departure        object\n",
      "Seg4Arrival          object\n",
      "Seg4Date             object\n",
      "Seg4Carrier          object\n",
      "Seg4BookingCode      object\n",
      "Seg5Departure        object\n",
      "Seg5Arrival          object\n",
      "Seg5Date             object\n",
      "Seg5Carrier          object\n",
      "Seg5BookingCode      object\n",
      "Seg6Departure        object\n",
      "Seg6Arrival          object\n",
      "Seg6Date             object\n",
      "Seg6Carrier          object\n",
      "Seg6BookingCode      object\n",
      "From                 object\n",
      "IsPublishedForNeg     int64\n",
      "IsFromInternet        int64\n",
      "IsFromVista           int64\n",
      "TerminalID           object\n",
      "InternetOffice       object\n",
      "dtype: object\n"
     ]
    }
   ],
   "source": [
    "# Inspect columns in one chunk\n",
    "pd.set_option(\"display.max_columns\", None)\n",
    "df = pd.read_csv(searches_file, sep=\"^\",  iterator=True, chunksize=10000)\n",
    "for chunk in df:\n",
    "    print(chunk.columns.to_list())\n",
    "    print(chunk.dtypes)\n",
    "    break"
   ]
  },
  {
   "cell_type": "code",
   "execution_count": 183,
   "metadata": {},
   "outputs": [],
   "source": [
    "# Functions\n",
    "def normalize_month(date):\n",
    "        try:\n",
    "            parsed_date = datetime.strptime(date.strip(), '%Y-%m-%d')\n",
    "            return parsed_date.month\n",
    "        except Exception as e:\n",
    "            return \"\""
   ]
  },
  {
   "cell_type": "code",
   "execution_count": 184,
   "metadata": {},
   "outputs": [],
   "source": [
    "# read csv file using chunks. Restrict to columns of interest\n",
    "df = pd.read_csv(searches_file, sep=\"^\", usecols=[\"Destination\", \"Date\"],  iterator=True, chunksize=10000)\n",
    "\n",
    "# created to control number of chunks to process for debugging\n",
    "current_chunk = 1\n",
    "max_chunks = -1\n",
    "\n",
    "# Dataframes to concat partial results\n",
    "destination_searches_total = None\n",
    "    \n",
    "# Iterate every chunk\n",
    "for chunk in df:\n",
    "\n",
    "    # Clean data filling nan with 0 and removing null values on top\n",
    "    chunk = chunk[(chunk[\"Destination\"].notnull()) & (chunk[\"Date\"].notnull())]\n",
    "    chunk[\"month\"] = chunk[\"Date\"].apply(normalize_month)\n",
    "    \n",
    "    # Filter data to valid months\n",
    "    chunk = chunk[chunk[\"month\"] > 0]\n",
    "        \n",
    "    # Normalize Destination codes\n",
    "    chunk[\"Destination\"] = chunk[\"Destination\"].str.strip().str.upper()\n",
    "    \n",
    "    # Filter data to destinations of interest\n",
    "    chunk = chunk[chunk[\"Destination\"].isin([\"BCN\", \"MAD\", \"AGP\"])]\n",
    "    \n",
    "    # Count searches occurences by Destination and month (size)\n",
    "    destination_searches = chunk[[\"Destination\", \"month\"]].groupby(by=[\"Destination\", \"month\"]).size()\n",
    "    \n",
    "    # Append partial results to totals\n",
    "    destination_searches_total = pd.concat([destination_searches_total, destination_searches])\n",
    "    \n",
    "    if current_chunk > 0 and current_chunk == max_chunks:\n",
    "        break\n",
    "    current_chunk += 1\n",
    "\n",
    "#print(destination_searches_total.groupby(by=[\"Destination\", \"month\"]).sum())\n",
    "destination_searches_total = destination_searches_total.groupby(by=[\"Destination\", \"month\"]).sum()\n",
    "destination_searches_total = destination_searches_total.reset_index()\n",
    "destination_searches_total.rename(columns={ destination_searches_total.columns[2]: \"searches\" }, inplace = True)"
   ]
  },
  {
   "cell_type": "code",
   "execution_count": 185,
   "metadata": {},
   "outputs": [],
   "source": [
    "# Import plotting modules\n",
    "import matplotlib.pyplot as plt\n",
    "import seaborn as sns"
   ]
  },
  {
   "cell_type": "code",
   "execution_count": 186,
   "metadata": {},
   "outputs": [
    {
     "data": {
      "image/png": "[encoded data removed]",
      "text/plain": [
       "<Figure size 432x288 with 1 Axes>"
      ]
     },
     "metadata": {
      "needs_background": "light"
     },
     "output_type": "display_data"
    }
   ],
   "source": [
    "sns.lineplot(x=destination_searches_total[\"month\"], \n",
    "             y=destination_searches_total[\"searches\"], \n",
    "             hue=destination_searches_total[\"Destination\"]);"
   ]
  },
  {
   "cell_type": "markdown",
   "metadata": {},
   "source": [
    "# Exercise 4\n",
    "#### For every search in the searches file, find out whether the search ended up in a booking or not (using the info in the bookings file). For instance, search and booking origin and destination should match. "
   ]
  },
  {
   "cell_type": "code",
   "execution_count": 187,
   "metadata": {},
   "outputs": [],
   "source": [
    "# Define path to CSV files\n",
    "bookings_file = \"/Users/je637620/Desktop/challenge/bookings.csv\"\n",
    "searches_file = \"/Users/je637620/Desktop/challenge/searches.csv\""
   ]
  },
  {
   "cell_type": "code",
   "execution_count": 188,
   "metadata": {},
   "outputs": [],
   "source": [
    "# Import required modules\n",
    "import pandas as pd"
   ]
  },
  {
   "cell_type": "code",
   "execution_count": 189,
   "metadata": {},
   "outputs": [
    {
     "name": "stdout",
     "output_type": "stream",
     "text": [
      "['Date', 'Time', 'TxnCode', 'OfficeID', 'Country', 'Origin', 'Destination', 'RoundTrip', 'NbSegments', 'Seg1Departure', 'Seg1Arrival', 'Seg1Date', 'Seg1Carrier', 'Seg1BookingCode', 'Seg2Departure', 'Seg2Arrival', 'Seg2Date', 'Seg2Carrier', 'Seg2BookingCode', 'Seg3Departure', 'Seg3Arrival', 'Seg3Date', 'Seg3Carrier', 'Seg3BookingCode', 'Seg4Departure', 'Seg4Arrival', 'Seg4Date', 'Seg4Carrier', 'Seg4BookingCode', 'Seg5Departure', 'Seg5Arrival', 'Seg5Date', 'Seg5Carrier', 'Seg5BookingCode', 'Seg6Departure', 'Seg6Arrival', 'Seg6Date', 'Seg6Carrier', 'Seg6BookingCode', 'From', 'IsPublishedForNeg', 'IsFromInternet', 'IsFromVista', 'TerminalID', 'InternetOffice']\n",
      "Date                 object\n",
      "Time                 object\n",
      "TxnCode              object\n",
      "OfficeID             object\n",
      "Country              object\n",
      "Origin               object\n",
      "Destination          object\n",
      "RoundTrip             int64\n",
      "NbSegments            int64\n",
      "Seg1Departure        object\n",
      "Seg1Arrival          object\n",
      "Seg1Date             object\n",
      "Seg1Carrier          object\n",
      "Seg1BookingCode      object\n",
      "Seg2Departure        object\n",
      "Seg2Arrival          object\n",
      "Seg2Date             object\n",
      "Seg2Carrier          object\n",
      "Seg2BookingCode      object\n",
      "Seg3Departure        object\n",
      "Seg3Arrival          object\n",
      "Seg3Date             object\n",
      "Seg3Carrier          object\n",
      "Seg3BookingCode      object\n",
      "Seg4Departure        object\n",
      "Seg4Arrival          object\n",
      "Seg4Date             object\n",
      "Seg4Carrier          object\n",
      "Seg4BookingCode      object\n",
      "Seg5Departure        object\n",
      "Seg5Arrival          object\n",
      "Seg5Date             object\n",
      "Seg5Carrier          object\n",
      "Seg5BookingCode      object\n",
      "Seg6Departure        object\n",
      "Seg6Arrival          object\n",
      "Seg6Date             object\n",
      "Seg6Carrier          object\n",
      "Seg6BookingCode      object\n",
      "From                 object\n",
      "IsPublishedForNeg     int64\n",
      "IsFromInternet        int64\n",
      "IsFromVista           int64\n",
      "TerminalID           object\n",
      "InternetOffice       object\n",
      "dtype: object\n"
     ]
    }
   ],
   "source": [
    "# Inspect data in one chunk\n",
    "pd.set_option(\"display.max_columns\", None)\n",
    "df = pd.read_csv(searches_file, sep=\"^\",  iterator=True, chunksize=10000)\n",
    "for chunk in df:\n",
    "    print(chunk.columns.to_list())\n",
    "    print(chunk.dtypes)\n",
    "    break"
   ]
  },
  {
   "cell_type": "code",
   "execution_count": 190,
   "metadata": {},
   "outputs": [
    {
     "name": "stdout",
     "output_type": "stream",
     "text": [
      "['act_date           ', 'source', 'pos_ctry', 'pos_iata', 'pos_oid  ', 'rloc          ', 'cre_date           ', 'duration', 'distance', 'dep_port', 'dep_city', 'dep_ctry', 'arr_port', 'arr_city', 'arr_ctry', 'lst_port', 'lst_city', 'lst_ctry', 'brd_port', 'brd_city', 'brd_ctry', 'off_port', 'off_city', 'off_ctry', 'mkt_port', 'mkt_city', 'mkt_ctry', 'intl', 'route          ', 'carrier', 'bkg_class', 'cab_class', 'brd_time           ', 'off_time           ', 'pax', 'year', 'month', 'oid      ']\n",
      "act_date               object\n",
      "source                 object\n",
      "pos_ctry               object\n",
      "pos_iata               object\n",
      "pos_oid                object\n",
      "rloc                   object\n",
      "cre_date               object\n",
      "duration                int64\n",
      "distance                int64\n",
      "dep_port               object\n",
      "dep_city               object\n",
      "dep_ctry               object\n",
      "arr_port               object\n",
      "arr_city               object\n",
      "arr_ctry               object\n",
      "lst_port               object\n",
      "lst_city               object\n",
      "lst_ctry               object\n",
      "brd_port               object\n",
      "brd_city               object\n",
      "brd_ctry               object\n",
      "off_port               object\n",
      "off_city               object\n",
      "off_ctry               object\n",
      "mkt_port               object\n",
      "mkt_city               object\n",
      "mkt_ctry               object\n",
      "intl                    int64\n",
      "route                  object\n",
      "carrier                object\n",
      "bkg_class              object\n",
      "cab_class              object\n",
      "brd_time               object\n",
      "off_time               object\n",
      "pax                     int64\n",
      "year                    int64\n",
      "month                   int64\n",
      "oid                    object\n",
      "dtype: object\n"
     ]
    }
   ],
   "source": [
    "# Inspect data in one chunk\n",
    "pd.set_option(\"display.max_columns\", None)\n",
    "df = pd.read_csv(bookings_file, sep=\"^\",  iterator=True, chunksize=10000)\n",
    "for chunk in df:\n",
    "    print(chunk.columns.to_list())\n",
    "    print(chunk.dtypes)\n",
    "    break"
   ]
  },
  {
   "cell_type": "code",
   "execution_count": 191,
   "metadata": {},
   "outputs": [],
   "source": [
    "# Functions\n",
    "def normalize_date(date):\n",
    "        try:\n",
    "            datetime.strptime(date.strip(), '%Y-%m-%d')\n",
    "            return date\n",
    "        except Exception as e:\n",
    "            return \"\"\n",
    "# Functions\n",
    "def normalize_datetime(date):\n",
    "        try:\n",
    "            date = datetime.strptime(date.strip(), '%Y-%m-%d %H:%M:%S')\n",
    "            return date.strftime(\"%Y-%m-%d\")\n",
    "        except Exception as e:\n",
    "            return \"\"\n",
    "\n",
    "# remove duplicates\n",
    "def remove_duplicates(file, newfile):\n",
    "    df = pd.read_csv(file, sep=\"^\", iterator=True, chunksize=1000000, low_memory=False, dtype=str)\n",
    "    all_chunks = pd.DataFrame()\n",
    "    # Iterate chunks to remove duplicates\n",
    "    for index, chunk in enumerate(df):\n",
    "        chunk.columns = chunk.columns.str.strip()\n",
    "        for column in chunk.columns:\n",
    "            chunk[column] = chunk[column].str.strip()\n",
    "        all_chunks = all_chunks.append(chunk)\n",
    "        all_chunks.drop_duplicates(inplace=True)\n",
    "    all_chunks.to_csv(newfile, sep=\"^\", index=False)"
   ]
  },
  {
   "cell_type": "code",
   "execution_count": 100,
   "metadata": {},
   "outputs": [
    {
     "name": "stdout",
     "output_type": "stream",
     "text": [
      " 20390198 /Users/je637620/Desktop/challenge/searches.csv\n",
      "  359005 /Users/je637620/Desktop/challenge/searches_no_dup.csv\n"
     ]
    }
   ],
   "source": [
    "# remove duplicates from searches\n",
    "searches_file_no_dup = \"/Users/je637620/Desktop/challenge/searches_no_dup.csv\"\n",
    "!wc -l {searches_file}\n",
    "remove_duplicates(searches_file, searches_file_no_dup)\n",
    "!wc -l {searches_file_no_dup}"
   ]
  },
  {
   "cell_type": "code",
   "execution_count": 192,
   "metadata": {},
   "outputs": [
    {
     "name": "stdout",
     "output_type": "stream",
     "text": [
      " 10000011 /Users/je637620/Desktop/challenge/bookings.csv\n",
      " 1000004 /Users/je637620/Desktop/challenge/bookings_no_dup.csv\n"
     ]
    }
   ],
   "source": [
    "# remove duplicates from bookings\n",
    "bookings_file_no_dup = \"/Users/je637620/Desktop/challenge/bookings_no_dup.csv\"\n",
    "!wc -l {bookings_file}\n",
    "remove_duplicates(bookings_file, bookings_file_no_dup)\n",
    "!wc -l {bookings_file_no_dup}"
   ]
  },
  {
   "cell_type": "code",
   "execution_count": 193,
   "metadata": {},
   "outputs": [
    {
     "data": {
      "text/html": [
       "<div>\n",
       "<style scoped>\n",
       "    .dataframe tbody tr th:only-of-type {\n",
       "        vertical-align: middle;\n",
       "    }\n",
       "\n",
       "    .dataframe tbody tr th {\n",
       "        vertical-align: top;\n",
       "    }\n",
       "\n",
       "    .dataframe thead th {\n",
       "        text-align: right;\n",
       "    }\n",
       "</style>\n",
       "<table border=\"1\" class=\"dataframe\">\n",
       "  <thead>\n",
       "    <tr style=\"text-align: right;\">\n",
       "      <th></th>\n",
       "      <th>Origin</th>\n",
       "      <th>Destination</th>\n",
       "      <th>Dpt_Date</th>\n",
       "      <th>Bookings</th>\n",
       "    </tr>\n",
       "  </thead>\n",
       "  <tbody>\n",
       "    <tr>\n",
       "      <th>0</th>\n",
       "      <td>AAB</td>\n",
       "      <td>ROV</td>\n",
       "      <td>2013-05-30</td>\n",
       "      <td>2.0</td>\n",
       "    </tr>\n",
       "    <tr>\n",
       "      <th>1</th>\n",
       "      <td>AAB</td>\n",
       "      <td>ROV</td>\n",
       "      <td>2013-08-27</td>\n",
       "      <td>18.0</td>\n",
       "    </tr>\n",
       "    <tr>\n",
       "      <th>2</th>\n",
       "      <td>AAE</td>\n",
       "      <td>ALG</td>\n",
       "      <td>2013-01-13</td>\n",
       "      <td>1.0</td>\n",
       "    </tr>\n",
       "    <tr>\n",
       "      <th>3</th>\n",
       "      <td>AAE</td>\n",
       "      <td>ALG</td>\n",
       "      <td>2013-01-14</td>\n",
       "      <td>1.0</td>\n",
       "    </tr>\n",
       "    <tr>\n",
       "      <th>4</th>\n",
       "      <td>AAE</td>\n",
       "      <td>ALG</td>\n",
       "      <td>2013-01-17</td>\n",
       "      <td>1.0</td>\n",
       "    </tr>\n",
       "  </tbody>\n",
       "</table>\n",
       "</div>"
      ],
      "text/plain": [
       "  Origin Destination    Dpt_Date  Bookings\n",
       "0    AAB         ROV  2013-05-30       2.0\n",
       "1    AAB         ROV  2013-08-27      18.0\n",
       "2    AAE         ALG  2013-01-13       1.0\n",
       "3    AAE         ALG  2013-01-14       1.0\n",
       "4    AAE         ALG  2013-01-17       1.0"
      ]
     },
     "execution_count": 193,
     "metadata": {},
     "output_type": "execute_result"
    }
   ],
   "source": [
    "# read csv file using chunks. Restrict to columns of interest\n",
    "df = pd.read_csv(bookings_file_no_dup, sep=\"^\", usecols=[\"dep_port\", \"arr_port\", \"brd_time\", \"pax\"], iterator=True, chunksize=100000)\n",
    "\n",
    "# created to control number of chunks to process for debugging\n",
    "current_chunk = 1\n",
    "max_chunks = -1\n",
    "\n",
    "# Dataframes to concat partial results\n",
    "total_bookings = None\n",
    "    \n",
    "# Iterate every chunk\n",
    "for chunk in df:\n",
    "\n",
    "    # Clean data filling nan with 0 and removing null values on top\n",
    "    chunk = chunk[(chunk[\"dep_port\"].notnull()) & (chunk[\"arr_port\"].notnull()) & (chunk[\"brd_time\"].notnull())]\n",
    "    chunk[\"brd_time\"] = chunk[\"brd_time\"].apply(normalize_datetime)\n",
    "    chunk = chunk.rename(columns={\"dep_port\": \"Origin\", \"arr_port\": \"Destination\", \"brd_time\": \"Dpt_Date\"})\n",
    "    \n",
    "    # Filter data to valid dates after normalization\n",
    "    chunk = chunk[chunk[\"Dpt_Date\"] != \"\"]\n",
    "\n",
    "    # Normalize Destination codes\n",
    "    chunk[\"Origin\"] = chunk[\"Origin\"].str.strip().str.upper()\n",
    "    chunk[\"Destination\"] = chunk[\"Destination\"].str.strip().str.upper()\n",
    "    \n",
    "    partial_bookings = chunk.groupby(by=[\"Origin\", \"Destination\", \"Dpt_Date\"])[\"pax\"].sum()\n",
    "        \n",
    "    total_bookings = pd.concat([total_bookings, partial_bookings])\n",
    "        \n",
    "    if current_chunk > 0 and current_chunk == max_chunks:\n",
    "        break\n",
    "    current_chunk += 1\n",
    "    \n",
    "total_bookings = total_bookings.groupby(by=[\"Origin\", \"Destination\", \"Dpt_Date\"]).sum()\n",
    "total_bookings = total_bookings.reset_index()\n",
    "total_bookings.rename(columns={total_bookings.columns[3]: \"Bookings\"}, inplace = True)\n",
    "total_bookings = total_bookings.drop_duplicates(keep='first')\n",
    "total_bookings.head()"
   ]
  },
  {
   "cell_type": "code",
   "execution_count": 194,
   "metadata": {},
   "outputs": [
    {
     "data": {
      "text/html": [
       "<div>\n",
       "<style scoped>\n",
       "    .dataframe tbody tr th:only-of-type {\n",
       "        vertical-align: middle;\n",
       "    }\n",
       "\n",
       "    .dataframe tbody tr th {\n",
       "        vertical-align: top;\n",
       "    }\n",
       "\n",
       "    .dataframe thead th {\n",
       "        text-align: right;\n",
       "    }\n",
       "</style>\n",
       "<table border=\"1\" class=\"dataframe\">\n",
       "  <thead>\n",
       "    <tr style=\"text-align: right;\">\n",
       "      <th></th>\n",
       "      <th>Origin</th>\n",
       "      <th>Destination</th>\n",
       "      <th>Dpt_Date</th>\n",
       "      <th>Searches</th>\n",
       "    </tr>\n",
       "  </thead>\n",
       "  <tbody>\n",
       "    <tr>\n",
       "      <th>0</th>\n",
       "      <td>AAC</td>\n",
       "      <td>CAI</td>\n",
       "      <td>2013-02-28</td>\n",
       "      <td>1</td>\n",
       "    </tr>\n",
       "    <tr>\n",
       "      <th>1</th>\n",
       "      <td>AAE</td>\n",
       "      <td>ALG</td>\n",
       "      <td>2013-06-21</td>\n",
       "      <td>1</td>\n",
       "    </tr>\n",
       "    <tr>\n",
       "      <th>2</th>\n",
       "      <td>AAE</td>\n",
       "      <td>MRS</td>\n",
       "      <td>2013-06-05</td>\n",
       "      <td>1</td>\n",
       "    </tr>\n",
       "    <tr>\n",
       "      <th>3</th>\n",
       "      <td>AAE</td>\n",
       "      <td>NCE</td>\n",
       "      <td>2013-08-29</td>\n",
       "      <td>1</td>\n",
       "    </tr>\n",
       "    <tr>\n",
       "      <th>4</th>\n",
       "      <td>AAE</td>\n",
       "      <td>ORY</td>\n",
       "      <td>2013-12-26</td>\n",
       "      <td>1</td>\n",
       "    </tr>\n",
       "  </tbody>\n",
       "</table>\n",
       "</div>"
      ],
      "text/plain": [
       "  Origin Destination    Dpt_Date  Searches\n",
       "0    AAC         CAI  2013-02-28         1\n",
       "1    AAE         ALG  2013-06-21         1\n",
       "2    AAE         MRS  2013-06-05         1\n",
       "3    AAE         NCE  2013-08-29         1\n",
       "4    AAE         ORY  2013-12-26         1"
      ]
     },
     "execution_count": 194,
     "metadata": {},
     "output_type": "execute_result"
    }
   ],
   "source": [
    "# read csv file using chunks. Restrict to columns of interest\n",
    "df = pd.read_csv(searches_file_no_dup, sep=\"^\", usecols=[\"Origin\", \"Destination\", \"Seg1Date\"], iterator=True, chunksize=100000)\n",
    "\n",
    "# created to control number of chunks to process for debugging\n",
    "current_chunk = 1\n",
    "max_chunks = -1\n",
    "\n",
    "# Dataframes to concat partial results\n",
    "total_searches = None\n",
    "\n",
    "# Iterate every chunk\n",
    "for chunk in df:\n",
    "\n",
    "    # Clean data filling nan with 0 and removing null values on top\n",
    "    chunk = chunk[(chunk[\"Origin\"].notnull()) & (chunk[\"Destination\"].notnull()) & (chunk[\"Seg1Date\"].notnull())]\n",
    "    chunk[\"Seg1Date\"] = chunk[\"Seg1Date\"].apply(normalize_date)\n",
    "    chunk = chunk.rename(columns={\"Seg1Date\": \"Dpt_Date\"})\n",
    "    \n",
    "    # Filter data to valid dates after normalization\n",
    "    chunk = chunk[chunk[\"Dpt_Date\"] != \"\"]\n",
    "        \n",
    "    # Normalize Destination codes\n",
    "    chunk[\"Origin\"] = chunk[\"Origin\"].str.strip().str.upper()\n",
    "    chunk[\"Destination\"] = chunk[\"Destination\"].str.strip().str.upper()\n",
    "    \n",
    "    partial_searches = chunk[[\"Origin\", \"Destination\", \"Dpt_Date\"]].groupby(by=[\"Origin\", \"Destination\", \"Dpt_Date\"]).size()\n",
    "    \n",
    "    total_searches = pd.concat([total_searches, partial_searches])\n",
    "\n",
    "    if current_chunk > 0 and current_chunk == max_chunks:\n",
    "        break\n",
    "    current_chunk += 1\n",
    "        \n",
    "total_searches = total_searches.groupby(by=[\"Origin\", \"Destination\", \"Dpt_Date\"]).sum()\n",
    "total_searches = total_searches.reset_index()\n",
    "total_searches.rename(columns={total_searches.columns[3]: \"Searches\" }, inplace = True)\n",
    "total_searches.head()"
   ]
  },
  {
   "cell_type": "code",
   "execution_count": 195,
   "metadata": {},
   "outputs": [
    {
     "data": {
      "text/html": [
       "<div>\n",
       "<style scoped>\n",
       "    .dataframe tbody tr th:only-of-type {\n",
       "        vertical-align: middle;\n",
       "    }\n",
       "\n",
       "    .dataframe tbody tr th {\n",
       "        vertical-align: top;\n",
       "    }\n",
       "\n",
       "    .dataframe thead th {\n",
       "        text-align: right;\n",
       "    }\n",
       "</style>\n",
       "<table border=\"1\" class=\"dataframe\">\n",
       "  <thead>\n",
       "    <tr style=\"text-align: right;\">\n",
       "      <th></th>\n",
       "      <th>Origin</th>\n",
       "      <th>Destination</th>\n",
       "      <th>Dpt_Date</th>\n",
       "      <th>Bookings</th>\n",
       "    </tr>\n",
       "  </thead>\n",
       "  <tbody>\n",
       "    <tr>\n",
       "      <th>22</th>\n",
       "      <td>AAE</td>\n",
       "      <td>ALG</td>\n",
       "      <td>2013-05-04</td>\n",
       "      <td>-1.0</td>\n",
       "    </tr>\n",
       "    <tr>\n",
       "      <th>23</th>\n",
       "      <td>AAE</td>\n",
       "      <td>ALG</td>\n",
       "      <td>2013-05-11</td>\n",
       "      <td>-1.0</td>\n",
       "    </tr>\n",
       "    <tr>\n",
       "      <th>24</th>\n",
       "      <td>AAE</td>\n",
       "      <td>ALG</td>\n",
       "      <td>2013-05-13</td>\n",
       "      <td>-1.0</td>\n",
       "    </tr>\n",
       "    <tr>\n",
       "      <th>68</th>\n",
       "      <td>AAE</td>\n",
       "      <td>ORN</td>\n",
       "      <td>2013-10-07</td>\n",
       "      <td>-3.0</td>\n",
       "    </tr>\n",
       "    <tr>\n",
       "      <th>87</th>\n",
       "      <td>AAL</td>\n",
       "      <td>AKL</td>\n",
       "      <td>2014-06-14</td>\n",
       "      <td>-5.0</td>\n",
       "    </tr>\n",
       "  </tbody>\n",
       "</table>\n",
       "</div>"
      ],
      "text/plain": [
       "   Origin Destination    Dpt_Date  Bookings\n",
       "22    AAE         ALG  2013-05-04      -1.0\n",
       "23    AAE         ALG  2013-05-11      -1.0\n",
       "24    AAE         ALG  2013-05-13      -1.0\n",
       "68    AAE         ORN  2013-10-07      -3.0\n",
       "87    AAL         AKL  2014-06-14      -5.0"
      ]
     },
     "execution_count": 195,
     "metadata": {},
     "output_type": "execute_result"
    }
   ],
   "source": [
    "# We can see there are flights with number of bookings < 1. Means cancellations?\n",
    "total_bookings[total_bookings[\"Bookings\"] < 0].head()"
   ]
  },
  {
   "cell_type": "code",
   "execution_count": 196,
   "metadata": {},
   "outputs": [],
   "source": [
    "# Remove bookings with negative Bookings because make no sense\n",
    "total_bookings = total_bookings[total_bookings[\"Bookings\"] >= 0]"
   ]
  },
  {
   "cell_type": "code",
   "execution_count": 197,
   "metadata": {},
   "outputs": [
    {
     "data": {
      "text/html": [
       "<div>\n",
       "<style scoped>\n",
       "    .dataframe tbody tr th:only-of-type {\n",
       "        vertical-align: middle;\n",
       "    }\n",
       "\n",
       "    .dataframe tbody tr th {\n",
       "        vertical-align: top;\n",
       "    }\n",
       "\n",
       "    .dataframe thead th {\n",
       "        text-align: right;\n",
       "    }\n",
       "</style>\n",
       "<table border=\"1\" class=\"dataframe\">\n",
       "  <thead>\n",
       "    <tr style=\"text-align: right;\">\n",
       "      <th></th>\n",
       "      <th>Origin</th>\n",
       "      <th>Destination</th>\n",
       "      <th>Dpt_Date</th>\n",
       "      <th>Searches</th>\n",
       "      <th>Bookings</th>\n",
       "    </tr>\n",
       "  </thead>\n",
       "  <tbody>\n",
       "    <tr>\n",
       "      <th>0</th>\n",
       "      <td>AAC</td>\n",
       "      <td>CAI</td>\n",
       "      <td>2013-02-28</td>\n",
       "      <td>1</td>\n",
       "      <td>0</td>\n",
       "    </tr>\n",
       "    <tr>\n",
       "      <th>1</th>\n",
       "      <td>AAE</td>\n",
       "      <td>ALG</td>\n",
       "      <td>2013-06-21</td>\n",
       "      <td>1</td>\n",
       "      <td>0</td>\n",
       "    </tr>\n",
       "    <tr>\n",
       "      <th>2</th>\n",
       "      <td>AAE</td>\n",
       "      <td>MRS</td>\n",
       "      <td>2013-06-05</td>\n",
       "      <td>1</td>\n",
       "      <td>0</td>\n",
       "    </tr>\n",
       "    <tr>\n",
       "      <th>3</th>\n",
       "      <td>AAE</td>\n",
       "      <td>NCE</td>\n",
       "      <td>2013-08-29</td>\n",
       "      <td>1</td>\n",
       "      <td>0</td>\n",
       "    </tr>\n",
       "    <tr>\n",
       "      <th>4</th>\n",
       "      <td>AAE</td>\n",
       "      <td>ORY</td>\n",
       "      <td>2013-12-26</td>\n",
       "      <td>1</td>\n",
       "      <td>0</td>\n",
       "    </tr>\n",
       "  </tbody>\n",
       "</table>\n",
       "</div>"
      ],
      "text/plain": [
       "  Origin Destination    Dpt_Date  Searches  Bookings\n",
       "0    AAC         CAI  2013-02-28         1         0\n",
       "1    AAE         ALG  2013-06-21         1         0\n",
       "2    AAE         MRS  2013-06-05         1         0\n",
       "3    AAE         NCE  2013-08-29         1         0\n",
       "4    AAE         ORY  2013-12-26         1         0"
      ]
     },
     "execution_count": 197,
     "metadata": {},
     "output_type": "execute_result"
    }
   ],
   "source": [
    "# Left join of search and booking considering booking brd_time (normalized as Dpt_date) matches search Seg1Date (normalized as Dpt_date)\n",
    "# Seg1Date: day to start the route\n",
    "# brd_time: day of boarding\n",
    "# Concern: delay on the airport might cause a flight to board next day if planned boarding time is closed to midnight\n",
    "s_b = total_searches.merge(total_bookings, how=\"left\")\n",
    "s_b[\"Bookings\"].fillna(value=0, inplace=True)\n",
    "s_b[\"Searches\"].fillna(value=0, inplace=True)\n",
    "s_b = s_b.astype({'Bookings': 'int64', 'Searches': 'int64'})\n",
    "s_b.head()"
   ]
  },
  {
   "cell_type": "code",
   "execution_count": 198,
   "metadata": {},
   "outputs": [
    {
     "name": "stdout",
     "output_type": "stream",
     "text": [
      "     Origin Destination    Dpt_Date  Searches  Bookings\n",
      "3000    AGP         PMI  2013-03-15         2         1\n",
      "3398    AHB         JED  2013-01-24         2         1\n",
      "3540    AHB         RUH  2013-02-06         2         1\n",
      "3568    AHB         RUH  2013-04-03         3         1\n",
      "3596    AHB         RUH  2013-06-23         4         1\n",
      "    Origin Destination    Dpt_Date  Searches  Bookings\n",
      "44     AAL         CPH  2013-01-16         1         4\n",
      "51     AAL         CPH  2013-05-15         1         2\n",
      "158    AAQ         DME  2013-08-03         1         4\n",
      "530    ABQ         PVR  2014-01-18         1         2\n",
      "819    ABZ         LHR  2013-12-13         1         3\n"
     ]
    }
   ],
   "source": [
    "# We cannot know if a specific search became a booking\n",
    "# Example: We have flights with more Searches than Bookings. There is no way to conclude which searches became a booking\n",
    "print(s_b[(s_b[\"Searches\"] > s_b[\"Bookings\"]) & (s_b[\"Bookings\"] > 0)].head())\n",
    "# Example: We have flights with more Bookings than Bookings. There is no way to conclude a booking was originated in a search (other channels?)\n",
    "print(s_b[(s_b[\"Searches\"] < s_b[\"Bookings\"]) & (s_b[\"Bookings\"] > 0)].head())"
   ]
  },
  {
   "cell_type": "code",
   "execution_count": 199,
   "metadata": {},
   "outputs": [
    {
     "data": {
      "text/html": [
       "<div>\n",
       "<style scoped>\n",
       "    .dataframe tbody tr th:only-of-type {\n",
       "        vertical-align: middle;\n",
       "    }\n",
       "\n",
       "    .dataframe tbody tr th {\n",
       "        vertical-align: top;\n",
       "    }\n",
       "\n",
       "    .dataframe thead th {\n",
       "        text-align: right;\n",
       "    }\n",
       "</style>\n",
       "<table border=\"1\" class=\"dataframe\">\n",
       "  <thead>\n",
       "    <tr style=\"text-align: right;\">\n",
       "      <th></th>\n",
       "      <th>Origin</th>\n",
       "      <th>Destination</th>\n",
       "      <th>Dpt_Date</th>\n",
       "      <th>Searches</th>\n",
       "      <th>Bookings</th>\n",
       "    </tr>\n",
       "  </thead>\n",
       "  <tbody>\n",
       "    <tr>\n",
       "      <th>44</th>\n",
       "      <td>AAL</td>\n",
       "      <td>CPH</td>\n",
       "      <td>2013-01-16</td>\n",
       "      <td>1</td>\n",
       "      <td>4</td>\n",
       "    </tr>\n",
       "    <tr>\n",
       "      <th>51</th>\n",
       "      <td>AAL</td>\n",
       "      <td>CPH</td>\n",
       "      <td>2013-05-15</td>\n",
       "      <td>1</td>\n",
       "      <td>2</td>\n",
       "    </tr>\n",
       "    <tr>\n",
       "      <th>52</th>\n",
       "      <td>AAL</td>\n",
       "      <td>CPH</td>\n",
       "      <td>2013-05-22</td>\n",
       "      <td>1</td>\n",
       "      <td>1</td>\n",
       "    </tr>\n",
       "    <tr>\n",
       "      <th>158</th>\n",
       "      <td>AAQ</td>\n",
       "      <td>DME</td>\n",
       "      <td>2013-08-03</td>\n",
       "      <td>1</td>\n",
       "      <td>4</td>\n",
       "    </tr>\n",
       "    <tr>\n",
       "      <th>530</th>\n",
       "      <td>ABQ</td>\n",
       "      <td>PVR</td>\n",
       "      <td>2014-01-18</td>\n",
       "      <td>1</td>\n",
       "      <td>2</td>\n",
       "    </tr>\n",
       "  </tbody>\n",
       "</table>\n",
       "</div>"
      ],
      "text/plain": [
       "    Origin Destination    Dpt_Date  Searches  Bookings\n",
       "44     AAL         CPH  2013-01-16         1         4\n",
       "51     AAL         CPH  2013-05-15         1         2\n",
       "52     AAL         CPH  2013-05-22         1         1\n",
       "158    AAQ         DME  2013-08-03         1         4\n",
       "530    ABQ         PVR  2014-01-18         1         2"
      ]
     },
     "execution_count": 199,
     "metadata": {},
     "output_type": "execute_result"
    }
   ],
   "source": [
    "# Keep only flights with searches and bookings\n",
    "s_b = s_b[(s_b[\"Searches\"] > 0) & (s_b[\"Bookings\"] > 0)]\n",
    "s_b.head()"
   ]
  },
  {
   "cell_type": "code",
   "execution_count": 200,
   "metadata": {},
   "outputs": [
    {
     "name": "stdout",
     "output_type": "stream",
     "text": [
      "Total searches that finish in bookings: 11799\n"
     ]
    }
   ],
   "source": [
    "# Let's consider the balance between number of searches and number of bookings for a flight with the concerns above \n",
    "import numpy as np\n",
    "s_b[\"Searches_in_Bookings\"] = np.minimum(s_b[\"Searches\"], s_b[\"Bookings\"])\n",
    "print(f\"Total searches that finish in bookings: {np.sum(s_b['Searches_in_Bookings'])}\")"
   ]
  },
  {
   "cell_type": "code",
   "execution_count": 201,
   "metadata": {},
   "outputs": [],
   "source": [
    "# Save searches as origin, destination, date, but we cannot include txncode because it is not possible\n",
    "searches_in_bookings_file = \"/Users/je637620/Desktop/challenge/searches_in_bookings.csv\"\n",
    "s_b.to_csv(searches_in_bookings_file, sep=\"^\", index=False)"
   ]
  },
  {
   "cell_type": "markdown",
   "metadata": {},
   "source": [
    "# Exercise 5\n",
    "#### Wrap the output of the second exercise in a web service that returns the data in JSON format\n",
    "\n",
    "#### The web service should accept a parameter n>0. For the top 10 airports, n is 10. For the X top airports, n is X "
   ]
  },
  {
   "cell_type": "code",
   "execution_count": 25,
   "metadata": {},
   "outputs": [],
   "source": [
    "# See exercise5.py"
   ]
  }
 ],
 "metadata": {
  "kernelspec": {
   "display_name": "Python 3",
   "language": "python",
   "name": "python3"
  },
  "language_info": {
   "codemirror_mode": {
    "name": "ipython",
    "version": 3
   },
   "file_extension": ".py",
   "mimetype": "text/x-python",
   "name": "python",
   "nbconvert_exporter": "python",
   "pygments_lexer": "ipython3",
   "version": "3.8.1"
  }
 },
 "nbformat": 4,
 "nbformat_minor": 4
}

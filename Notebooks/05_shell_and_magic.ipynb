{
 "cells": [
  {
   "cell_type": "code",
   "execution_count": 1,
   "metadata": {},
   "outputs": [
    {
     "name": "stdout",
     "output_type": "stream",
     "text": [
      "/Users/je637620/Box/_Personal/Master/Repos/Classes/Notebooks\n"
     ]
    }
   ],
   "source": [
    "# Execute command in a shell\n",
    "! pwd"
   ]
  },
  {
   "cell_type": "code",
   "execution_count": 2,
   "metadata": {},
   "outputs": [
    {
     "name": "stdout",
     "output_type": "stream",
     "text": [
      "/Users/je637620/Box/_Personal/Master/Repos/Classes/Notebooks\n",
      "/Users/je637620/Box/_Personal/Master/Repos/Classes/Notebooks\n"
     ]
    }
   ],
   "source": [
    "# Every execution is isolated from others\n",
    "! pwd\n",
    "! cd ..\n",
    "! pwd"
   ]
  },
  {
   "cell_type": "code",
   "execution_count": 3,
   "metadata": {},
   "outputs": [
    {
     "name": "stdout",
     "output_type": "stream",
     "text": [
      "/Users/je637620/Box/_Personal/Master/Repos/Classes\n"
     ]
    }
   ],
   "source": [
    "# Execute a magic command\n",
    "%pwd\n",
    "%cd .."
   ]
  },
  {
   "cell_type": "code",
   "execution_count": 4,
   "metadata": {},
   "outputs": [
    {
     "data": {
      "text/plain": [
       "'/Users/je637620/Box/_Personal/Master/Repos/Classes'"
      ]
     },
     "execution_count": 4,
     "metadata": {},
     "output_type": "execute_result"
    }
   ],
   "source": [
    "# Execution applies to the environment\n",
    "%pwd"
   ]
  },
  {
   "cell_type": "code",
   "execution_count": 5,
   "metadata": {},
   "outputs": [
    {
     "name": "stdout",
     "output_type": "stream",
     "text": [
      "/Users/je637620/Box/_Personal/Master/Repos/Classes\n"
     ]
    }
   ],
   "source": [
    "# Execution applies to the environment\n",
    "! pwd"
   ]
  },
  {
   "cell_type": "code",
   "execution_count": 6,
   "metadata": {},
   "outputs": [
    {
     "name": "stdout",
     "output_type": "stream",
     "text": [
      "My current directory: /Users/je637620/Box/_Personal/Master/Repos/Classes\n"
     ]
    }
   ],
   "source": [
    "# Magic commands are executed in python, and their output is available to python code\n",
    "current_dir=%pwd\n",
    "print(f\"My current directory: {current_dir}\")"
   ]
  },
  {
   "cell_type": "code",
   "execution_count": 7,
   "metadata": {},
   "outputs": [
    {
     "name": "stdout",
     "output_type": "stream",
     "text": [
      "Files in /Users/je637620/Box/_Personal/Master/Repos/Classes using magic command:\n",
      "\u001b[34mNotebooks\u001b[m\u001b[m/ \u001b[34mclass02\u001b[m\u001b[m/   \u001b[34mclass03\u001b[m\u001b[m/\n",
      "Files in /Users/je637620/Box/_Personal/Master/Repos/Classes using shell:\n",
      "\u001b[34mNotebooks\u001b[m\u001b[m \u001b[34mclass02\u001b[m\u001b[m   \u001b[34mclass03\u001b[m\u001b[m\n"
     ]
    }
   ],
   "source": [
    "# Python variables can be used in shell and magic command commands referencing them with $ or {}\n",
    "print(f\"Files in {current_dir} using magic command:\")\n",
    "%ls $current_dir\n",
    "print(f\"Files in {current_dir} using shell:\")\n",
    "! ls {current_dir}"
   ]
  }
 ],
 "metadata": {
  "kernelspec": {
   "display_name": "Python 3",
   "language": "python",
   "name": "python3"
  },
  "language_info": {
   "codemirror_mode": {
    "name": "ipython",
    "version": 3
   },
   "file_extension": ".py",
   "mimetype": "text/x-python",
   "name": "python",
   "nbconvert_exporter": "python",
   "pygments_lexer": "ipython3",
   "version": "3.8.1"
  }
 },
 "nbformat": 4,
 "nbformat_minor": 4
}
